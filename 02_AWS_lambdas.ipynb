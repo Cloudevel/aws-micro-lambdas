{
 "cells": [
  {
   "cell_type": "markdown",
   "metadata": {},
   "source": [
    "# Lambdas en AWS."
   ]
  },
  {
   "cell_type": "markdown",
   "metadata": {},
   "source": [
    "## Cómputo orientado a eventos."
   ]
  },
  {
   "cell_type": "markdown",
   "metadata": {},
   "source": [
    "## Disparadores.\n",
    "\n",
    "Por su naturaleza, es necesario que ocurra un evento para desencadenar la ejecución de una Lambda, por lo que es necesario contar con un \"detonador\" o \"trigger\", el cual sea capaz de detectar un evento y echar a andar la Lambda"
   ]
  },
  {
   "cell_type": "code",
   "execution_count": null,
   "metadata": {},
   "outputs": [],
   "source": [
    "    S3 trigger\n",
    "    SNS trigger\n",
    "    SQS trigger\n",
    "    CloudWatch Event and Logs trigger"
   ]
  }
 ],
 "metadata": {
  "kernelspec": {
   "display_name": "Bash",
   "language": "bash",
   "name": "bash"
  },
  "language_info": {
   "codemirror_mode": "shell",
   "file_extension": ".sh",
   "mimetype": "text/x-sh",
   "name": "bash"
  }
 },
 "nbformat": 4,
 "nbformat_minor": 2
}
